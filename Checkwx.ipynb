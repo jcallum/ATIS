{
  "nbformat": 4,
  "nbformat_minor": 0,
  "metadata": {
    "colab": {
      "provenance": [],
      "authorship_tag": "ABX9TyPtEEntwSTjIVIe9wnwbPpS",
      "include_colab_link": true
    },
    "kernelspec": {
      "name": "python3",
      "display_name": "Python 3"
    },
    "language_info": {
      "name": "python"
    }
  },
  "cells": [
    {
      "cell_type": "markdown",
      "metadata": {
        "id": "view-in-github",
        "colab_type": "text"
      },
      "source": [
        "<a href=\"https://colab.research.google.com/github/jcallum/ATIS/blob/master/Checkwx.ipynb\" target=\"_parent\"><img src=\"https://colab.research.google.com/assets/colab-badge.svg\" alt=\"Open In Colab\"/></a>"
      ]
    },
    {
      "cell_type": "code",
      "execution_count": null,
      "metadata": {
        "id": "fMozQe8iwGkj"
      },
      "outputs": [],
      "source": [
        "import requests\n",
        "import json\n",
        "\n",
        "api_key = \"x-api-key=7367b4655ad84000bed1303670\"\n",
        "header = \"https://api.checkwx.com/\"\n",
        "\n",
        "\n",
        "def get_station_name(icao):\n",
        "  url = header + \"station/\" + icao + \"?\" + api_key\n",
        "  response = requests.request(\"GET\", url)\n",
        "  if response.status_code != 200:\n",
        "    print(response)\n",
        "    return(\"\")\n",
        "  else:\n",
        "    dict = json.loads(response.text)\n",
        "    data = dict['data']\n",
        "    return(data[0][\"name\"])\n",
        "\n",
        "def get_metar(icao):\n",
        "  url = header + \"metar/\" + icao + \"?\" + api_key\n",
        "  response = requests.request(\"GET\", url)\n",
        "  if response.status_code != 200:\n",
        "    print(response)\n",
        "    return(\"\")\n",
        "  else:\n",
        "    dict = json.loads(response.text)\n",
        "    metar = dict['data']\n",
        "    return(metar)"
      ]
    },
    {
      "cell_type": "code",
      "source": [
        "icao_code = input(\"Input airport ICAO code:\")\n",
        "metar = get_metar(icao_code)\n",
        "print(metar)\n"
      ],
      "metadata": {
        "colab": {
          "base_uri": "https://localhost:8080/"
        },
        "id": "d7bPDnpHNgGr",
        "outputId": "9a6eb43f-db95-4b40-e36a-1c5c5a36f843"
      },
      "execution_count": null,
      "outputs": [
        {
          "output_type": "stream",
          "name": "stdout",
          "text": [
            "Input airport ICAO code:Cyqm\n",
            "['CYQM 272200Z 14010KT 15SM -RA FEW012 SCT021 BKN056 OVC070 08/07 A2948 RMK SC1SC3SC2AC1 SLP986']\n"
          ]
        }
      ]
    },
    {
      "cell_type": "code",
      "source": [
        "icao_code = input(\"Input airport ICAO code:\")\n",
        "#print(icao_code)\n",
        "station_name = get_station_name(icao_code)\n",
        "print(station_name)"
      ],
      "metadata": {
        "colab": {
          "base_uri": "https://localhost:8080/"
        },
        "id": "_dJ6U3yc2qLF",
        "outputId": "42f88b42-595b-4861-a235-e54fd608282b"
      },
      "execution_count": null,
      "outputs": [
        {
          "output_type": "stream",
          "name": "stdout",
          "text": [
            "Input airport ICAO code:Cyhz\n",
            "Halifax / Stanfield International Airport\n"
          ]
        }
      ]
    }
  ]
}