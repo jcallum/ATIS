{
  "cells": [
    {
      "cell_type": "markdown",
      "metadata": {
        "id": "view-in-github",
        "colab_type": "text"
      },
      "source": [
        "<a href=\"https://colab.research.google.com/github/jcallum/ATIS/blob/master/Wordl_drive.ipynb\" target=\"_parent\"><img src=\"https://colab.research.google.com/assets/colab-badge.svg\" alt=\"Open In Colab\"/></a>"
      ]
    },
    {
      "cell_type": "code",
      "source": [
        "import numpy as np\n",
        "import random\n",
        "import pandas as pd\n",
        "from google.colab import drive\n",
        "drive.mount('/content/drive')\n"
      ],
      "metadata": {
        "id": "djqD5SyYsJPy",
        "colab": {
          "base_uri": "https://localhost:8080/"
        },
        "outputId": "bec3f06b-3ebd-4dfa-de05-5d457ad851ae"
      },
      "execution_count": 14,
      "outputs": [
        {
          "output_type": "stream",
          "name": "stdout",
          "text": [
            "Drive already mounted at /content/drive; to attempt to forcibly remount, call drive.mount(\"/content/drive\", force_remount=True).\n"
          ]
        }
      ]
    },
    {
      "cell_type": "code",
      "source": [
        "words = pd.read_csv('/content/drive/MyDrive/Wordl/words.csv')\n",
        "words = words[\"words\"]\n",
        "words = words.str.upper()\n",
        "full_list = words\n",
        "words.head(10)\n",
        "#print(len(words))"
      ],
      "metadata": {
        "colab": {
          "base_uri": "https://localhost:8080/"
        },
        "id": "YTyRCkFQ6rkZ",
        "outputId": "13eccfc6-a9a3-4a1c-b8f4-c543309b242f"
      },
      "execution_count": 11,
      "outputs": [
        {
          "output_type": "execute_result",
          "data": {
            "text/plain": [
              "0    AUREI\n",
              "1    ABACK\n",
              "2    ABASE\n",
              "3    ABATE\n",
              "4    ABBEY\n",
              "5    ABBOT\n",
              "6    ABHOR\n",
              "7    ABIDE\n",
              "8    ABLED\n",
              "9    ABODE\n",
              "Name: words, dtype: object"
            ]
          },
          "metadata": {},
          "execution_count": 11
        }
      ]
    },
    {
      "cell_type": "code",
      "execution_count": 16,
      "metadata": {
        "colab": {
          "base_uri": "https://localhost:8080/"
        },
        "id": "40kuNn4WH4Q8",
        "outputId": "92740e9c-ecd7-454e-bbd6-8130223a291a"
      },
      "outputs": [
        {
          "output_type": "stream",
          "name": "stdout",
          "text": [
            "Suggest word? Y/N: Y\n",
            "DRAMA\n",
            "Suggest word? Y/N: N\n",
            "Enter a five-letter guess:DRAMA\n",
            "Enter the result by letter - G,B or Y: BBBGY\n",
            "0\n"
          ]
        }
      ],
      "source": [
        "#words = pd.read_csv('/content/drive/MyDrive/Wordl/words.csv')\n",
        "#words.head()\n",
        "\n",
        "letters = ['A', 'B', 'C', 'D', 'E', 'F', 'G', 'H', 'I', 'J', 'K', 'L', 'M', 'N', 'O', 'P', 'Q', 'R', 'S', 'T', 'U', 'V', 'W', 'X', 'Y', 'Z']\n",
        "\n",
        "guess = \"\"\n",
        "result = \"\"\n",
        "answer = \"\"\n",
        "\n",
        "def word_in_dict(list, word):\n",
        "  return any(word in item for item in list)\n",
        "\n",
        "def exclude_black(words,black_letter):\n",
        "  filtered_words = [word for word in words if all(letter not in word for letter in black_letter)]\n",
        "  return filtered_words\n",
        "\n",
        "def exclude_non_green(words,letter, index):\n",
        "  return [word for word in words if len(word) > index and word[index] == letter]\n",
        "\n",
        "def include_yellow(words, letter):\n",
        "  return [word for word in words if letter in word]\n",
        "\n",
        "def contains_only_bgy(input_string):\n",
        "  return all(char in 'BGY' for char in input_string)\n",
        "\n",
        "while answer != \"N\":\n",
        "  answer = input(\"Suggest word? Y/N: \")\n",
        "  if answer == \"Y\":\n",
        "    print(random.choice(words))\n",
        "    answer = \"\"\n",
        "\n",
        "while not guess.isalpha() or len(guess) != 5:\n",
        "  guess = input(\"Enter a five-letter guess:\")\n",
        "  if not word_in_dict(full_list, guess):\n",
        "    print(\"That word is not in the dictionary. Try again.\")\n",
        "    print(guess)\n",
        "    print(len(words))\n",
        "    guess = \"\"\n",
        "    print(len(guess))\n",
        "\n",
        "while len(result) != 5 or not contains_only_bgy(result):\n",
        "  result = input(\"Enter the result by letter - G,B or Y: \")\n",
        "  #print(contains_only_bgy(result))\n",
        "\n",
        "for x in range(5) :\n",
        "  if result[x] == 'B':\n",
        "    words = exclude_black(words, guess[x])\n",
        "  elif result[x] == 'G':\n",
        "    words = exclude_non_green(words, guess[x], x)\n",
        "  elif result[x] == 'Y':\n",
        "    words = include_yellow(words, guess[x])\n",
        "\n",
        "\n",
        "#print(words)\n",
        "print(len(words))\n",
        "#print(result[0])"
      ]
    },
    {
      "cell_type": "code",
      "source": [],
      "metadata": {
        "id": "5reg_HOI6ejH"
      },
      "execution_count": null,
      "outputs": []
    },
    {
      "cell_type": "markdown",
      "source": [
        "# New Section"
      ],
      "metadata": {
        "id": "CYfgXl41iTBS"
      }
    },
    {
      "cell_type": "markdown",
      "source": [
        "# New Section"
      ],
      "metadata": {
        "id": "ULGTIyZciTlA"
      }
    }
  ],
  "metadata": {
    "colab": {
      "provenance": [],
      "authorship_tag": "ABX9TyPrn3fftegMNvzB/VNc3uAm",
      "include_colab_link": true
    },
    "kernelspec": {
      "display_name": "Python 3",
      "name": "python3"
    },
    "language_info": {
      "name": "python"
    }
  },
  "nbformat": 4,
  "nbformat_minor": 0
}